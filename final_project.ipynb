{
 "cells": [
  {
   "cell_type": "markdown",
   "metadata": {},
   "source": [
    "# Project: Web Traffic Forecasting\n",
    "Ruoxin Jiang and Bingyan Hu\n",
    "## Overview\n",
    "___\n",
    "### Task\n",
    "The goal of our project is to forecast web traffic time series for online pages. Forecasting time series is challenging since we need to combine its seasonality, trend and other factors intelligently in modeling; the historical data itself is insufficient to capture uncertainty in future events. \n",
    "\n",
    "We present a hierchical time series forecasting model using Edward and demostrate three rounds of Box's loop below.\n",
    "\n",
    "### Data Source\n",
    "We obtain real time series data from [a recent Kaggle competition](https://www.kaggle.com/c/web-traffic-time-series-forecasting). Each time series represents daily page views of a particular Wikipedia article from **07/01/2015** to **09/10/2017**. \n",
    "\n",
    "The model is trained on data before **07/10/2017** and we forecast number of page visits in last 60 days from **07/10/2017** to **09/10/2017**."
   ]
  },
  {
   "cell_type": "markdown",
   "metadata": {
    "collapsed": true
   },
   "source": [
    "## Round 1: \n",
    "___\n",
    "### 1.Data\n",
    "We randomly pick a wikipedia article data with `ds` and `views` in long format."
   ]
  },
  {
   "cell_type": "code",
   "execution_count": null,
   "metadata": {
    "collapsed": true
   },
   "outputs": [],
   "source": [
    "#Data"
   ]
  },
  {
   "cell_type": "markdown",
   "metadata": {},
   "source": [
    "### 1.Model: FB prophet regression model\n",
    "We build a regression model similar to [Facebook Prophet](https://peerj.com/preprints/3190/); it combines trend, seasonality and holiday components with non-linear smoothers applied to regressors $t \\in \\mathbb{Z}^{T}$. \n",
    "\n",
    "$$y(t) = g(t) + s(t) + h(t) + \\epsilon_{t}  $$\n",
    "\n",
    "- **Trend** <br/> $$g(t) = (k + \\mathbf{a}(t)^{T} \\boldsymbol{\\delta})t + (m + \\mathbf{a}(t)^{T} \\boldsymbol{\\gamma})$$\n",
    "    - $k$ is the growth rate (slope)\n",
    "    - $m$ is the offset (intercept)\n",
    "    - $S$ changepoints are explicitly defined to allow trend changes at times $s_{j \\in {1,2,...,S}}$\n",
    "        - $\\mathbf{a}(t) \\in \\{0,1\\}^{S}$ are changepoint indicators\n",
    "        - $\\delta_{j} \\sim Laplace(0,\\tau)$ is the change of rate at time $s_{j}$\n",
    "        - $\\gamma_{j}$ is set to $-s_{j}\\delta_{j}$ to make the function continuous</br>\n",
    "\n",
    "\n",
    "- **Seasonality** <br/>\n",
    "We construct Fourier series to approximate periodic seaonality.\n",
    "$$s(t) = \\sum_{n=1}^{N}(a_{n}cos(\\frac{2\\pi nt}{P}) + b_{n}sin(\\frac{2\\pi nt}{P} )) = X(t)  \\boldsymbol{\\beta}$$\n",
    "    - $\\boldsymbol{\\beta} = [a_{1}, b_{1} , ... , a_{N}, b_{N}]^{T}$ and $\\boldsymbol{\\beta} \\sim Normal(0,\\sigma^{2})$\n",
    "    - yearly -> (P = 365.25, N = 10)\n",
    "    - weekly -> (P = 7, N = 3)\n",
    "    \n",
    "\n",
    "- **Holiday/Events** <br/>\n",
    "Assuming holidays are independnet, we assign each holiday with a parameter $\\kappa_{i}$\n",
    "$$h(t) = Z(t) \\boldsymbol{\\kappa}$$\n",
    "    - $Z(t) = [\\boldsymbol{1}(t\\in D_{1}) , ... , \\boldsymbol{1}(t\\in D_{L})]$\n",
    "    - $\\boldsymbol{\\kappa} \\sim Normal(0, \\nu^2)$"
   ]
  },
  {
   "cell_type": "code",
   "execution_count": 1,
   "metadata": {
    "collapsed": true
   },
   "outputs": [],
   "source": [
    "#Model placeholder"
   ]
  },
  {
   "cell_type": "markdown",
   "metadata": {},
   "source": [
    "Before modeling, we transform the raw data and extract features into proper format before feeding into the model. The input data includes\n",
    "\n",
    "- X\n",
    "    - **t: ** date index\n",
    "    - **X: ** seasonality vector after fourier transformation given data dates\n",
    "    - **A: ** changepoint vector given data dates and changpoints\n",
    "    - **sigmas: ** fixed scale on seasonality priors\n",
    "- y\n",
    "    - **y_scaled: ** `maxdiff(log(views))`"
   ]
  },
  {
   "cell_type": "code",
   "execution_count": 7,
   "metadata": {
    "collapsed": true
   },
   "outputs": [],
   "source": [
    "# # Model\n",
    "# t = tf.placeholder(tf.float32, shape=None, name=\"t\")        # time index\n",
    "# A = tf.placeholder(tf.float32, shape=(None, S), name=\"A\")      # changepoint indicators\n",
    "# t_change = tf.placeholder(tf.float32, shape=(S), name=\"t_change\") # changepoints_t\n",
    "# X = tf.placeholder(tf.float32, shape=(None, K), name=\"X\")      # season vectors\n",
    "# sigmas = tf.placeholder(tf.float32, shape=(K,), name=\"sigmas\")  # scale on seasonality prior\n",
    "# #tau = tf.placeholder(tf.float32, shape=(), name=\"tau\")      # scale on changepoints prior\n",
    "# tau = Normal(loc=tf.ones(1) * 0.05, scale=1.*tf.ones(1))\n",
    "\n",
    "# k = Normal(loc=tf.zeros(1), scale=5.0*tf.ones(1))           # initial slope\n",
    "# m = Normal(loc=tf.zeros(1), scale=5.0*tf.ones(1))           # initial intercept\n",
    "# sigma_obs = Normal(loc=tf.zeros(1), scale=0.5*tf.ones(1))   # noise\n",
    "\n",
    "# delta = Laplace(loc=tf.zeros(S), scale=tau*tf.ones(S))      # changepoint rate adjustment\n",
    "# gamma = tf.multiply(-t_change, delta, name=\"gamma\")\n",
    "\n",
    "# beta = Normal(loc=tf.zeros(K), scale=sigmas*tf.ones(K))     # seasonal\n",
    "\n",
    "# trend_loc = (k + ed.dot(A, delta)) * t + (m + ed.dot(A, gamma))\n",
    "# seas_loc = ed.dot(X, beta)\n",
    "# y = Normal(loc = trend_loc + seas_loc, scale = sigma_obs)\n",
    "\n",
    "# Extract features\n",
    "# holiday_en_us = ['2015-01-01', '2015-01-19', '2015-05-25', '2015-07-03', '2015-09-07', '2015-11-26', '2015-11-27', '2015-12-25', \n",
    "#                  '2016-01-01', '2016-01-18', '2016-05-30', '2016-07-04', '2016-09-05', '2016-11-11', '2016-11-24', '2016-12-26', \n",
    "#                  '2017-01-01', '2017-01-02', '2017-01-16', '2017-05-29', '2017-07-04', '2017-09-04', '2017-11-10', '2017-11-23', \n",
    "#                  '2017-12-25',\n",
    "#                  '2015-02-14', '2016-02-14', '2017-02-14']\n",
    "# holidays = pd.DataFrame({\n",
    "#   'holiday': 'US public holiday',\n",
    "#   'ds': pd.to_datetime(holiday_en_us),\n",
    "#   'lower_window': -1,\n",
    "#   'upper_window': 0,\n",
    "#   'prior_scale': 10.0\n",
    "# })\n",
    "# holidays = None"
   ]
  },
  {
   "cell_type": "markdown",
   "metadata": {},
   "source": [
    "### 1.Inference: HMC\n",
    "Given train data, we use `ed.HMC` to infer the latent variables"
   ]
  },
  {
   "cell_type": "code",
   "execution_count": null,
   "metadata": {
    "collapsed": true
   },
   "outputs": [],
   "source": [
    "### Inference"
   ]
  },
  {
   "cell_type": "markdown",
   "metadata": {
    "collapsed": true
   },
   "source": [
    "### 1.Criticism\n",
    "- Visualization\n",
    "- Pointwise Evaluation\n",
    "    - MAPE\n",
    "    - SMAPE\n",
    "    - MSE\n",
    "- PPC"
   ]
  },
  {
   "cell_type": "code",
   "execution_count": null,
   "metadata": {
    "collapsed": true
   },
   "outputs": [],
   "source": [
    "### Criticism"
   ]
  },
  {
   "cell_type": "code",
   "execution_count": null,
   "metadata": {
    "collapsed": true
   },
   "outputs": [],
   "source": [
    "### Next"
   ]
  },
  {
   "cell_type": "markdown",
   "metadata": {},
   "source": [
    "## Round 2: \n",
    "___\n",
    "### 2.Data\n",
    "We scratched data from"
   ]
  },
  {
   "cell_type": "markdown",
   "metadata": {},
   "source": [
    "### 2.Model\n"
   ]
  },
  {
   "cell_type": "markdown",
   "metadata": {},
   "source": [
    "## Round 3: \n",
    "___\n",
    "### Data\n",
    "Using the data from previous round."
   ]
  },
  {
   "cell_type": "markdown",
   "metadata": {},
   "source": [
    "### Model: \n",
    "- Local Features\n",
    "- Global Features\n",
    "### Inference\n",
    "### Criticism\n",
    "### Next"
   ]
  },
  {
   "cell_type": "markdown",
   "metadata": {},
   "source": [
    "## Conclusion and Lessions Learned"
   ]
  },
  {
   "cell_type": "code",
   "execution_count": null,
   "metadata": {
    "collapsed": true
   },
   "outputs": [],
   "source": []
  }
 ],
 "metadata": {
  "kernelspec": {
   "display_name": "Python 3",
   "language": "python",
   "name": "python3"
  },
  "language_info": {
   "codemirror_mode": {
    "name": "ipython",
    "version": 3
   },
   "file_extension": ".py",
   "mimetype": "text/x-python",
   "name": "python",
   "nbconvert_exporter": "python",
   "pygments_lexer": "ipython3",
   "version": "3.6.3"
  }
 },
 "nbformat": 4,
 "nbformat_minor": 2
}
