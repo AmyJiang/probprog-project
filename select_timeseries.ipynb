{
 "cells": [
  {
   "cell_type": "code",
   "execution_count": 63,
   "metadata": {},
   "outputs": [
    {
     "name": "stdout",
     "output_type": "stream",
     "text": [
      "Counter({'en': 24108, 'ja': 20431, 'de': 18547, 'na': 17855, 'fr': 17802, 'zh': 17229, 'ru': 15022, 'es': 14069})\n",
      "Total Timeseries in Enlighs: 24108\n",
      "Total Timeseries with non-zero views in Enlighs: 16110\n"
     ]
    },
    {
     "name": "stderr",
     "output_type": "stream",
     "text": [
      "/home/amy/Documents/Courses/Fall2017/Model/workspace/lib/python3.5/site-packages/ipykernel_launcher.py:23: SettingWithCopyWarning: \n",
      "A value is trying to be set on a copy of a slice from a DataFrame\n",
      "\n",
      "See the caveats in the documentation: http://pandas.pydata.org/pandas-docs/stable/indexing.html#indexing-view-versus-copy\n"
     ]
    }
   ],
   "source": [
    "import pandas as pd\n",
    "import numpy as np\n",
    "import re\n",
    "from collections import Counter\n",
    "from random import sample\n",
    "\n",
    "def get_language(page):\n",
    "    res = re.search('[a-z][a-z].wikipedia.org',page)\n",
    "    if res:\n",
    "        return res.group(0)[:2]\n",
    "    return 'na'\n",
    "\n",
    "#read the csv into a dataframe\n",
    "train = pd.read_csv('./data/train_2.csv',sep=',', error_bad_lines=False, warn_bad_lines=True).fillna(0)\n",
    "\n",
    "train['lang'] = train.Page.map(get_language)\n",
    "print(Counter(train.lang))\n",
    "\n",
    "ts_en = train[train.lang=='en']\n",
    "print(\"Total Timeseries in Enlighs: %d\" % ts_en.shape[0])\n",
    "\n",
    "ts_en_nonzero = ts_en.loc[(ts_en != 0).all(axis=1), :]\n",
    "ts_en_nonzero.drop(\"lang\", axis=1, inplace=True)\n",
    "#dates = [col for col in ts_en.columns if col not in [\"Page\", \"lang\"]]\n",
    "#ts_en[\"mean\"] = ts_en[dates].apply(np.nanmean, axis=1)\n",
    "print(\"Total Timeseries with non-zero views in Enlighs: %d\" % ts_en_nonzero.shape[0])\n"
   ]
  },
  {
   "cell_type": "code",
   "execution_count": null,
   "metadata": {},
   "outputs": [],
   "source": []
  },
  {
   "cell_type": "code",
   "execution_count": 64,
   "metadata": {},
   "outputs": [
    {
     "name": "stdout",
     "output_type": "stream",
     "text": [
      "[72960, 73316, 73254, 74280, 77327, 72943, 73587, 11676, 76796, 75357]\n"
     ]
    }
   ],
   "source": [
    "import httplib2\n",
    "from bs4 import BeautifulSoup, SoupStrainer\n",
    "\n",
    "http = httplib2.Http()\n",
    "\n",
    "start_wiki = \"National_Football_League\"\n",
    "wiki_prefix = \"https://en.wikipedia.org/wiki/\"\n",
    "teams = ['Dallas_Cowboys', 'New_England_Patriots', 'Arizona_Cardinals', \n",
    "         'Los_Angeles_Rams', 'Denver_Broncos', 'Pittsburgh_Steelers',\n",
    "         'Carolina_Panthers', 'Green_Bay_Packers', 'Atlanta_Falcons']\n",
    "\n",
    "\n",
    "# All agents views \n",
    "pages = {p.split('.')[0]:i for i, p in zip(ts_en_nonzero.index, ts_en_nonzero.Page) if p.endswith(\"_all-agents\")}\n",
    "\n",
    "_, response = http.request(wiki_prefix + start_wiki)\n",
    "soup = BeautifulSoup(response, \"html5lib\")\n",
    "team_pages = set()\n",
    "for dom in soup.find_all('a'):\n",
    "    link = dom.get('href') \n",
    "    if link is None or not link.startswith(\"/wiki/\"):\n",
    "        continue\n",
    "    link = link[len(\"/wiki/\"):]\n",
    "    if \":\" in link or link == \"Main_Page\":\n",
    "        continue\n",
    "    if link in teams and link + \"_en\" in pages:\n",
    "        team_pages.add(pages[link + \"_en\"])\n",
    "team_pages.add(pages[start_wiki+\"_en\"])\n",
    "team_pages = list(team_pages)\n",
    "print(team_pages)"
   ]
  },
  {
   "cell_type": "code",
   "execution_count": 65,
   "metadata": {},
   "outputs": [],
   "source": [
    "team_ts = ts_en_nonzero.loc[team_pages]\n",
    "team_ts.to_csv(\"./data/nfl_teams.csv\", header=True, index=False)"
   ]
  },
  {
   "cell_type": "code",
   "execution_count": null,
   "metadata": {
    "collapsed": true
   },
   "outputs": [],
   "source": []
  }
 ],
 "metadata": {
  "kernelspec": {
   "display_name": "Python 3",
   "language": "python",
   "name": "python3"
  },
  "language_info": {
   "codemirror_mode": {
    "name": "ipython",
    "version": 3
   },
   "file_extension": ".py",
   "mimetype": "text/x-python",
   "name": "python",
   "nbconvert_exporter": "python",
   "pygments_lexer": "ipython3",
   "version": "3.5.2"
  }
 },
 "nbformat": 4,
 "nbformat_minor": 2
}
