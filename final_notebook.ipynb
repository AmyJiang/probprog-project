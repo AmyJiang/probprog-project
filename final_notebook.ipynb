{
 "cells": [
  {
   "cell_type": "markdown",
   "metadata": {},
   "source": [
    "# Project: Web Traffic Forecasting\n",
    "Ruoxin Jiang and Bingyan Hu\n",
    "## Overview\n",
    "___\n",
    "### Task\n",
    "The goal of our project is to forecast web traffic time series for online pages. Forecasting time series is challenging since we need to combine its seasonality, trend and other factors intelligently in modeling; the historical data itself is insufficient to capture uncertainty in future events. \n",
    "\n",
    "We present a hierchical time series forecasting model using Edward and demostrate three rounds of Box's loop below.\n",
    "\n",
    "### Data Source\n",
    "We obtain real time series data from [a recent Kaggle competition](https://www.kaggle.com/c/web-traffic-time-series-forecasting). Each time series represents daily page views of a particular Wikipedia article from **07/01/2015** to **09/10/2017**. \n",
    "\n",
    "The model is trained on data before **07/10/2017** and we forecast number of page visits in last 60 days from **07/10/2017** to **09/10/2017**."
   ]
  },
  {
   "cell_type": "code",
   "execution_count": null,
   "metadata": {
    "collapsed": true
   },
   "outputs": [],
   "source": [
    "from __future__ import absolute_import\n",
    "from __future__ import division\n",
    "from __future__ import print_function\n",
    "import edward as ed\n",
    "import numpy as np\n",
    "import tensorflow as tf\n",
    "import pandas as pd\n",
    "import seaborn as sns\n",
    "import matplotlib.pyplot as plt\n",
    "from datetime import timedelta\n",
    "\n",
    "from models import *\n",
    "from utils import *\n",
    "from pipeline import *\n",
    "from cross_validation import cross_validation\n",
    "\n",
    "%matplotlib inline\n",
    "import matplotlib\n",
    "matplotlib.rcParams['figure.figsize'] = (24, 12)\n",
    "matplotlib.rcParams['lines.linewidth'] = 2\n",
    "matplotlib.rcParams['xtick.labelsize'] = 18\n",
    "matplotlib.rcParams['ytick.labelsize'] = 18"
   ]
  },
  {
   "cell_type": "markdown",
   "metadata": {
    "collapsed": true
   },
   "source": [
    "## Round 1: \n",
    "___\n",
    "### 1.Data\n",
    "We randomly pick a wikipedia article data with `ds` and `views` in long format."
   ]
  },
  {
   "cell_type": "code",
   "execution_count": null,
   "metadata": {},
   "outputs": [],
   "source": [
    "# Load data into DataFrame\n",
    "FPATH = \"./data/nfl_teams.csv\"\n",
    "pages = [\"Atlanta_Falcons_en.wikipedia.org_mobile-web_all-agents\"]\n",
    "\n",
    "timeseries = get_timeseries(FPATH)\n",
    "ts_dfs = []\n",
    "for p in pages:\n",
    "    print(\"Preparing timeseries %s\" % p)\n",
    "    df = setup_dataframe(timeseries[p])\n",
    "    ts_dfs.append(df)"
   ]
  },
  {
   "cell_type": "code",
   "execution_count": null,
   "metadata": {},
   "outputs": [],
   "source": [
    "# Split history (train) and future (test)\n",
    "sdate = pd.datetime(2017, 7, 10)\n",
    "ts_data = []\n",
    "for df in ts_dfs: \n",
    "    history, future, y_scale = split_train_test(df, sdate)\n",
    "    ts_data.append({\n",
    "        \"history\": history, \"future\": future, \"y_scale\": y_scale\n",
    "    })\n",
    "    \n",
    "print(\"Extracting features\")\n",
    "ts = ts_data[0] # same feature matrix for all test series  \n",
    "train_data = extract_features(ts[\"history\"])\n",
    "test_data = extract_features(ts[\"future\"], changepoints_t=train_data[\"t_change\"])\n",
    "assert(all(train_data[\"X\"].columns ==  test_data[\"X\"].columns))\n",
    "assert(all(train_data[\"t_change\"] == test_data[\"t_change\"]))"
   ]
  },
  {
   "cell_type": "markdown",
   "metadata": {},
   "source": [
    "### 1.Model: FB prophet regression model\n",
    "We build a regression model similar to [Facebook Prophet](https://peerj.com/preprints/3190/); it combines trend, seasonality and holiday components with non-linear smoothers applied to regressors $t \\in \\mathbb{Z}^{T}$. \n",
    "\n",
    "$$y(t) = g(t) + s(t) + h(t) + \\epsilon_{t}  $$\n",
    "\n",
    "- **Trend** <br/> $$g(t) = (k + \\mathbf{a}(t)^{T} \\boldsymbol{\\delta})t + (m + \\mathbf{a}(t)^{T} \\boldsymbol{\\gamma})$$\n",
    "    - $k$ is the growth rate (slope)\n",
    "    - $m$ is the offset (intercept)\n",
    "    - $S$ changepoints are explicitly defined to allow trend changes at times $s_{j \\in {1,2,...,S}}$\n",
    "        - $\\mathbf{a}(t) \\in \\{0,1\\}^{S}$ are changepoint indicators\n",
    "        - $\\delta_{j} \\sim Laplace(0,\\tau)$ is the change of rate at time $s_{j}$\n",
    "        - $\\gamma_{j}$ is set to $-s_{j}\\delta_{j}$ to make the function continuous</br>\n",
    "\n",
    "\n",
    "- **Seasonality** <br/>\n",
    "We construct Fourier series to approximate periodic seaonality.\n",
    "$$s(t) = \\sum_{n=1}^{N}(a_{n}cos(\\frac{2\\pi nt}{P}) + b_{n}sin(\\frac{2\\pi nt}{P} )) = X(t)  \\boldsymbol{\\beta}$$\n",
    "    - $\\boldsymbol{\\beta} = [a_{1}, b_{1} , ... , a_{N}, b_{N}]^{T}$ and $\\boldsymbol{\\beta} \\sim Normal(0,\\sigma^{2})$\n",
    "    - yearly -> (P = 365.25, N = 10)\n",
    "    - weekly -> (P = 7, N = 3)\n",
    "    \n",
    "\n",
    "- **Holiday/Events** <br/>\n",
    "Assuming holidays are independnet, we assign each holiday with a parameter $\\kappa_{i}$\n",
    "$$h(t) = Z(t) \\boldsymbol{\\kappa}$$\n",
    "    - $Z(t) = [\\boldsymbol{1}(t\\in D_{1}) , ... , \\boldsymbol{1}(t\\in D_{L})]$\n",
    "    - $\\boldsymbol{\\kappa} \\sim Normal(0, \\nu^2)$"
   ]
  },
  {
   "cell_type": "markdown",
   "metadata": {},
   "source": [
    "Before modeling, we transform the raw data and extract features into proper format. The input data includes\n",
    "\n",
    "- X\n",
    "    - **t: ** time index\n",
    "    - **X: ** seasonality vector after fourier transformation\n",
    "    - **A: ** changepoint vector given time and number of change points\n",
    "    - **sigmas: ** fixed scale on seasonality priors\n",
    "- y\n",
    "    - **y_scaled: ** `maxdiff(log(views))`"
   ]
  },
  {
   "cell_type": "code",
   "execution_count": null,
   "metadata": {
    "collapsed": true
   },
   "outputs": [],
   "source": [
    "# Model\n",
    "t = tf.placeholder(tf.float32, shape=None, name=\"t\")        # time index\n",
    "A = tf.placeholder(tf.float32, shape=(None, S), name=\"A\")      # changepoint indicators\n",
    "t_change = tf.placeholder(tf.float32, shape=(S), name=\"t_change\") # changepoints_t\n",
    "X = tf.placeholder(tf.float32, shape=(None, K), name=\"X\")      # season vectors\n",
    "sigmas = tf.placeholder(tf.float32, shape=(K,), name=\"sigmas\")  # scale on seasonality prior    \n",
    "tau = Normal(loc=tf.ones(1) * 0.05, scale=1.*tf.ones(1)) # scale on changepoints prior\n",
    "\n",
    "k = Normal(loc=tf.zeros(1), scale=5.0*tf.ones(1))           # initial slope\n",
    "m = Normal(loc=tf.zeros(1), scale=5.0*tf.ones(1))           # initial intercept\n",
    "sigma_obs = Normal(loc=tf.zeros(1), scale=0.5*tf.ones(1))   # noise\n",
    "\n",
    "delta = Laplace(loc=tf.zeros(S), scale=tau*tf.ones(S))      # changepoint rate adjustment\n",
    "gamma = tf.multiply(-t_change, delta, name=\"gamma\")\n",
    "\n",
    "beta = Normal(loc=tf.zeros(K), scale=sigmas*tf.ones(K))     # seasonal\n",
    "\n",
    "trend_loc = (k + ed.dot(A, delta)) * t + (m + ed.dot(A, gamma))\n",
    "seas_loc = ed.dot(X, beta)\n",
    "y = Normal(loc = trend_loc + seas_loc, scale = sigma_obs)"
   ]
  },
  {
   "cell_type": "markdown",
   "metadata": {},
   "source": [
    "### 1.Inference: HMC\n",
    "Given train data, the goal is to infer $k,m,\\boldsymbol{\\delta},\\tau,\\boldsymbol{\\beta}$ and $\\sigma$, where k and m are trend model parameters, $\\boldsymbol{\\delta}$ are latent variables for rate adjustment, $\\boldsymbol{\\beta}$ are smoothers for seasonality, $\\tau$ and $\\sigma$ are variance component parameters.\n",
    "\n",
    "In this analysis, we use Monte Carlo with `ed.HMC` to infer all the latent variables. All training data are passed in for inference and we tune step_size $= 0.0001$, n_steps $= 5$."
   ]
  },
  {
   "cell_type": "code",
   "execution_count": null,
   "metadata": {},
   "outputs": [],
   "source": [
    "### Inference\n",
    "### @TODO plot inference.run every\n",
    "ITR = 10000\n",
    "kinit, minit = init_km(ts_data[0][\"history\"])\n",
    "print(\"Initial slope / intercept: %f, %f\" % (kinit, minit))\n",
    "qk = Empirical(params=tf.Variable(kinit * tf.ones([ITR, 1])))\n",
    "qm = Empirical(params=tf.Variable(minit * tf.ones([ITR, 1])))\n",
    "qsigma_obs = Empirical(params=tf.Variable(tf.ones([ITR, 1])))\n",
    "qbeta = Empirical(params=tf.Variable(tf.zeros([ITR, K])))\n",
    "qdelta = Empirical(params=tf.Variable(tf.zeros([ITR, S])))\n",
    "qtau = Empirical(params=tf.Variable(0.05 * tf.ones([ITR, 1])))\n",
    "\n",
    "latent_vars = {k: qk, m: qm, \n",
    "        sigma_obs: qsigma_obs, \n",
    "        beta: qbeta, \n",
    "        delta:qdelta,tau: qtau}\n",
    "\n",
    "data_dict = {y: ts_data[0][\"history\"][\"y_scaled\"].as_matrix(),\n",
    "        t: train_data['t'],\n",
    "        A: train_data['A'], \n",
    "        X: train_data['X'].as_matrix(), \n",
    "        sigmas: train_data['sigmas'], \n",
    "        t_change: changepoints_t}\n",
    "\n",
    "inference = ed.HMC(latent_vars, data=data_dict)"
   ]
  },
  {
   "cell_type": "code",
   "execution_count": null,
   "metadata": {},
   "outputs": [],
   "source": [
    "y_post = ed.copy(y, latent_vars)\n",
    "y_true = ts[\"future\"][\"y_scaled\"].as_matrix()"
   ]
  },
  {
   "cell_type": "code",
   "execution_count": null,
   "metadata": {},
   "outputs": [],
   "source": []
  },
  {
   "cell_type": "markdown",
   "metadata": {
    "collapsed": true
   },
   "source": [
    "### 1.Criticism\n",
    "- Visualization\n",
    "- Pointwise Evaluation\n",
    "    - MAPE\n",
    "    - SMAPE\n",
    "    - MSE\n",
    "- PPC"
   ]
  },
  {
   "cell_type": "code",
   "execution_count": null,
   "metadata": {
    "collapsed": true
   },
   "outputs": [],
   "source": [
    "### Criticism\n"
   ]
  },
  {
   "cell_type": "code",
   "execution_count": null,
   "metadata": {
    "collapsed": true
   },
   "outputs": [],
   "source": [
    "### Next"
   ]
  },
  {
   "cell_type": "markdown",
   "metadata": {},
   "source": [
    "## Round 2: \n",
    "___\n",
    "### 2.Data\n",
    "We pick two wikipedia page view for two NFL teams"
   ]
  },
  {
   "cell_type": "markdown",
   "metadata": {},
   "source": [
    "### 2.Model\n",
    "- Local latend variable\n",
    "- Global latent variable"
   ]
  },
  {
   "cell_type": "markdown",
   "metadata": {},
   "source": [
    "## Round 3: \n",
    "___\n",
    "### 3.Data\n",
    "Using the same data from previous round."
   ]
  },
  {
   "cell_type": "markdown",
   "metadata": {},
   "source": [
    "### 3.Model: \n",
    "- Local latend variable\n",
    "- Global latent variable\n",
    "\n",
    "### 3.Inference\n",
    "### 3.Criticism\n",
    "### 3.Next"
   ]
  },
  {
   "cell_type": "markdown",
   "metadata": {},
   "source": [
    "## Conclusion and Lessions Learned"
   ]
  },
  {
   "cell_type": "code",
   "execution_count": null,
   "metadata": {
    "collapsed": true
   },
   "outputs": [],
   "source": []
  }
 ],
 "metadata": {
  "kernelspec": {
   "display_name": "Python 3",
   "language": "python",
   "name": "python3"
  },
  "language_info": {
   "codemirror_mode": {
    "name": "ipython",
    "version": 3
   },
   "file_extension": ".py",
   "mimetype": "text/x-python",
   "name": "python",
   "nbconvert_exporter": "python",
   "pygments_lexer": "ipython3",
   "version": "3.6.3"
  }
 },
 "nbformat": 4,
 "nbformat_minor": 2
}
